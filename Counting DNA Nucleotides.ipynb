{
 "cells": [
  {
   "cell_type": "code",
   "execution_count": 49,
   "metadata": {},
   "outputs": [
    {
     "name": "stdout",
     "output_type": "stream",
     "text": [
      "(209, 215, 208, 215)\n"
     ]
    }
   ],
   "source": [
    "s = open(\"/Users/jonathanmotyka/Downloads/rosalind_dna.txt\", 'r');\n",
    "\n",
    "A_count = T_count = C_count = G_count = 0;\n",
    "\n",
    "all_nucleotides = []\n",
    "for line in s.readlines():\n",
    "    new_line = []\n",
    "    for chars in line:\n",
    "        new_line.append(chars);\n",
    "    all_nucleotides.append(new_line);\n",
    "\n",
    "for nucleotide in all_nucleotides:\n",
    "    for base in nucleotide:\n",
    "        if  base == 'A':\n",
    "            A_count += 1;\n",
    "        elif base == 'T':\n",
    "            T_count += 1;\n",
    "        elif base == 'C':\n",
    "            C_count += 1;\n",
    "        elif base == 'G':\n",
    "            G_count += 1;\n",
    "            \n",
    "            \n",
    "print(A_count, C_count, G_count, T_count);\n"
   ]
  },
  {
   "cell_type": "code",
   "execution_count": null,
   "metadata": {},
   "outputs": [],
   "source": []
  },
  {
   "cell_type": "code",
   "execution_count": null,
   "metadata": {},
   "outputs": [],
   "source": []
  }
 ],
 "metadata": {
  "kernelspec": {
   "display_name": "Python 2",
   "language": "python",
   "name": "python2"
  },
  "language_info": {
   "codemirror_mode": {
    "name": "ipython",
    "version": 2
   },
   "file_extension": ".py",
   "mimetype": "text/x-python",
   "name": "python",
   "nbconvert_exporter": "python",
   "pygments_lexer": "ipython2",
   "version": "2.7.15"
  }
 },
 "nbformat": 4,
 "nbformat_minor": 2
}
