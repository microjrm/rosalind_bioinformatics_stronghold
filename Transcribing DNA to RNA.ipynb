{
 "cells": [
  {
   "cell_type": "code",
   "execution_count": 5,
   "metadata": {},
   "outputs": [
    {
     "name": "stdout",
     "output_type": "stream",
     "text": [
      " AAACACUAAUAUCUACCUAUCUUUAACGAGACGUUAUGUGCAUCCCGCUAUUCUACGCCACCCUGGCUCCGAUGACCCGCACGAGGGUCCGUGAGCGGCGAUAUAACGGAAGACCCUCUUUAUACUCUGUGGUGGGACUCAUAGAUCAAUUAACGUAAAAGGGCCGGAUGGGCAUAGAAUUAUUUCGGUAAACGAACUAAUAAAUGAGACCUAUCUGUUCCGCAAGGUUGCGCCCCUUCAAGACGGCCGAGACGGGAGUAGAUUUCUGUCAAGUACGGGUAGGCGGAGCGCCACGAAGAACCCGUACCGGUCAGUUAUCACGUCAAAGCUUCUACCCCUAGGUAAAAGGCUGCUUGCAUCACUACUCACGCCACCUAAGUUGUUAAGCGAUAUACUUUUUGAGGUUCUCCGUGGGCACCACACUUGCCGCUCCCAGACGCUGGAUCUAACAUGUCCUUAACAAGCCGUGGCAAUACGGACGCACGAAAAGAUCUGCUACUCAUACAUUAGACAUUAGUUGUUCCCGCGUCAUCCGCUCUUUACACGCGGAAAAGUGACCACCCAUUACGAUCCCGCUAUCCAAAUGGCCCAAUGCACAGUGUGCCUGUUCGCUCUUGGUUAUGCCGCACACAAGCGUCAAGGUCCGCGGUCCUUUCGCCUGACGUAUCUCGCCGAUCGUGGGCGUCUCGGAGGCGAUUACAUAUCGCCUUUGUAUUACGAUAUUCCGACGACUGUAAUCACCUCCAGCUCUAUAUACAUAUAACUCUGUGGAACCCAUCGAGAAGGUUCUUCUGGGUAUCACGAGGGCAAAGGGCGUUCGCUAGAAAAGCUUCAAAUGGAUGGAGAGGAGCCACCACUUACUUCUCAUCGAGGCGGGUAUCCCACGGGGCUGAGAAUGCUACUCAGAUAUAGAUUUUCCGACAUUGGCUUGGUGAAAGAUUCA\n"
     ]
    }
   ],
   "source": [
    "s = open(\"/Users/jonathanmotyka/Downloads/rosalind_rna.txt\", 'r');\n",
    "\n",
    "\n",
    "all_nucleotides = []\n",
    "for line in s.readlines():\n",
    "    new_line = []\n",
    "    for chars in line:\n",
    "        new_line.append(chars);\n",
    "    all_nucleotides.append(new_line);\n",
    "u = []\n",
    "for nucleotide in all_nucleotides:\n",
    "    for base in nucleotide:\n",
    "        if  base == 'A':\n",
    "            u.append('A');\n",
    "        elif base == 'T':\n",
    "            u.append('U');\n",
    "        elif base == 'C':\n",
    "            u.append('C');\n",
    "        elif base == 'G':\n",
    "            u.append('G');\n",
    "            \n",
    "            \n",
    "rna = \" \"\n",
    "for i in u:\n",
    "    rna += str(i);\n",
    "\n",
    "print(rna)\n"
   ]
  },
  {
   "cell_type": "code",
   "execution_count": null,
   "metadata": {},
   "outputs": [],
   "source": []
  },
  {
   "cell_type": "code",
   "execution_count": null,
   "metadata": {},
   "outputs": [],
   "source": []
  }
 ],
 "metadata": {
  "kernelspec": {
   "display_name": "Python 2",
   "language": "python",
   "name": "python2"
  },
  "language_info": {
   "codemirror_mode": {
    "name": "ipython",
    "version": 2
   },
   "file_extension": ".py",
   "mimetype": "text/x-python",
   "name": "python",
   "nbconvert_exporter": "python",
   "pygments_lexer": "ipython2",
   "version": "2.7.15"
  }
 },
 "nbformat": 4,
 "nbformat_minor": 2
}
